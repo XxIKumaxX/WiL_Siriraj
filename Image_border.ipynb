{
  "nbformat": 4,
  "nbformat_minor": 0,
  "metadata": {
    "colab": {
      "name": "Image border.ipynb",
      "provenance": [],
      "authorship_tag": "ABX9TyMgJoSQ7lxNc3rjvoSW5PEy",
      "include_colab_link": true
    },
    "kernelspec": {
      "name": "python3",
      "display_name": "Python 3"
    },
    "language_info": {
      "name": "python"
    }
  },
  "cells": [
    {
      "cell_type": "markdown",
      "metadata": {
        "id": "view-in-github",
        "colab_type": "text"
      },
      "source": [
        "<a href=\"https://colab.research.google.com/github/XxIKumaxX/WiL_Siriraj/blob/main/Image_border.ipynb\" target=\"_parent\"><img src=\"https://colab.research.google.com/assets/colab-badge.svg\" alt=\"Open In Colab\"/></a>"
      ]
    },
    {
      "cell_type": "markdown",
      "metadata": {
        "id": "HumhJ7Rar0Xz"
      },
      "source": [
        "# Function1"
      ]
    },
    {
      "cell_type": "code",
      "metadata": {
        "id": "2s804H7XpYfO"
      },
      "source": [
        ""
      ],
      "execution_count": null,
      "outputs": []
    }
  ]
}