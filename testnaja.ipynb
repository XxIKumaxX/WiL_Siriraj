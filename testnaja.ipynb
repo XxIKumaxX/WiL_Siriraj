{
  "nbformat": 4,
  "nbformat_minor": 0,
  "metadata": {
    "colab": {
      "name": "testnaja",
      "provenance": [],
      "collapsed_sections": [],
      "include_colab_link": true
    },
    "kernelspec": {
      "name": "python3",
      "display_name": "Python 3"
    },
    "language_info": {
      "name": "python"
    }
  },
  "cells": [
    {
      "cell_type": "markdown",
      "metadata": {
        "id": "view-in-github",
        "colab_type": "text"
      },
      "source": [
        "<a href=\"https://colab.research.google.com/github/XxIKumaxX/WiL_Siriraj/blob/main/testnaja.ipynb\" target=\"_parent\"><img src=\"https://colab.research.google.com/assets/colab-badge.svg\" alt=\"Open In Colab\"/></a>"
      ]
    },
    {
      "cell_type": "code",
      "metadata": {
        "colab": {
          "base_uri": "https://localhost:8080/"
        },
        "id": "wrsI46OL9Ohk",
        "outputId": "e030bdbe-17ec-4c45-84d0-6935c302c40f"
      },
      "source": [
        "print('131321')"
      ],
      "execution_count": null,
      "outputs": [
        {
          "output_type": "stream",
          "text": [
            "131321\n"
          ],
          "name": "stdout"
        }
      ]
    },
    {
      "cell_type": "code",
      "metadata": {
        "id": "UzCiuRzE9Zcl"
      },
      "source": [
        "import pandas as pd"
      ],
      "execution_count": null,
      "outputs": []
    },
    {
      "cell_type": "code",
      "metadata": {
        "id": "Xk--BwbW_zUy"
      },
      "source": [
        "eiei"
      ],
      "execution_count": null,
      "outputs": []
    },
    {
      "cell_type": "markdown",
      "metadata": {
        "id": "Kx4HLi_wBm2G"
      },
      "source": [
        "Header\n",
        "\n",
        "---\n",
        "\n",
        "\n",
        "> one\n",
        "> two\n",
        "\n",
        "My name's ice.\n",
        "> pongpat\n",
        ">dasdsa\n",
        "> two\n",
        "\n",
        "Testna\n",
        "*   dasdsadas\n",
        "*   dasdasdasdsad\n",
        "* dsadasdas\n",
        "\n",
        "\n",
        "\n"
      ]
    },
    {
      "cell_type": "code",
      "metadata": {
        "id": "fhCsiY4JDpRV"
      },
      "source": [
        "test na "
      ],
      "execution_count": null,
      "outputs": []
    },
    {
      "cell_type": "markdown",
      "metadata": {
        "id": "vWsQKuKYFpl9"
      },
      "source": [
        "# eiei"
      ]
    },
    {
      "cell_type": "markdown",
      "metadata": {
        "id": "x9tPJeoeHgxH"
      },
      "source": [
        "11111111"
      ]
    },
    {
      "cell_type": "code",
      "metadata": {
        "colab": {
          "base_uri": "https://localhost:8080/"
        },
        "id": "zbxKThFUHg17",
        "outputId": "13aa714e-47c1-45dd-fe4b-50659256b279"
      },
      "source": [
        "222222222"
      ],
      "execution_count": null,
      "outputs": [
        {
          "output_type": "execute_result",
          "data": {
            "text/plain": [
              "222222222"
            ]
          },
          "metadata": {
            "tags": []
          },
          "execution_count": 3
        }
      ]
    },
    {
      "cell_type": "code",
      "metadata": {
        "colab": {
          "base_uri": "https://localhost:8080/"
        },
        "id": "HjcvLMWZHg5l",
        "outputId": "2a34aa9e-45c6-41bd-fc9f-5675135921b3"
      },
      "source": [
        "3"
      ],
      "execution_count": null,
      "outputs": [
        {
          "output_type": "execute_result",
          "data": {
            "text/plain": [
              "3"
            ]
          },
          "metadata": {
            "tags": []
          },
          "execution_count": 4
        }
      ]
    },
    {
      "cell_type": "code",
      "metadata": {
        "id": "gIM-k0yq7Gx0"
      },
      "source": [
        ""
      ],
      "execution_count": null,
      "outputs": []
    },
    {
      "cell_type": "code",
      "metadata": {
        "id": "Pez2wzsx7G0S"
      },
      "source": [
        ""
      ],
      "execution_count": null,
      "outputs": []
    },
    {
      "cell_type": "code",
      "metadata": {
        "id": "Wlg4swRB7G7C"
      },
      "source": [
        ""
      ],
      "execution_count": null,
      "outputs": []
    },
    {
      "cell_type": "markdown",
      "metadata": {
        "id": "egm05DSp7HN7"
      },
      "source": [
        "# asdasdasdasdas"
      ]
    }
  ]
}